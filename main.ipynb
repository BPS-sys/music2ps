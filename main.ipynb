{
 "cells": [
  {
   "cell_type": "code",
   "execution_count": null,
   "id": "06423777",
   "metadata": {},
   "outputs": [],
   "source": [
    "\n",
    "import music2ps\n",
    "\n",
    "\n",
    "mp = music2ps.music()\n",
    "mp.set_path(NEUTRINO='NEUTRINO', music='さくら.musicxml', lyrics='さくら.txt')\n",
    "model = mp.load_model('wiki_model_sg_20.model', max_word=200, similar_percent=0.6)\n",
    "texts = mp.load_lyrics_file()\n",
    "converted_text = mp.convert(model=model, texts=texts)\n",
    "mp.run(converted_text)\n",
    "mp.play(converted_text)\n"
   ]
  }
 ],
 "metadata": {
  "kernelspec": {
   "display_name": "Python 3 (ipykernel)",
   "language": "python",
   "name": "python3"
  },
  "language_info": {
   "codemirror_mode": {
    "name": "ipython",
    "version": 3
   },
   "file_extension": ".py",
   "mimetype": "text/x-python",
   "name": "python",
   "nbconvert_exporter": "python",
   "pygments_lexer": "ipython3",
   "version": "3.9.12"
  }
 },
 "nbformat": 4,
 "nbformat_minor": 5
}
